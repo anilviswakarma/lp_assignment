{
 "cells": [
  {
   "cell_type": "markdown",
   "metadata": {},
   "source": [
    "## Background\n",
    "Operators offer capping products which limit the amount their customers are charged over a certain period (e.g. daily or weekly). For example:\n",
    "\n",
    "For a daily capping limit of 5 dollars:\n",
    "\n",
    "| Day | Amount | Adjusted Amount | Accumulated for the day |\n",
    "|:----|:-------|:-|:-|\n",
    "| Trip 1 day 1 | 2 | 2 | 2 |\n",
    "| Trip 2 day 1 | 2 | 2| 4 | \n",
    "| Trip 3 day 1| 2 | 1 | 5 | \n",
    "| Trip 1 day 2 | 3 | 3 | 3 | \n",
    "| Trip 2 day 2 | 3 | 2 | 5 | \n",
    "| Trip 3 day 2 | 3 | 0 | 5 | \n",
    "\n",
    " \n",
    "## Given:\n",
    "Given the data dictionary below"
   ]
  },
  {
   "cell_type": "markdown",
   "metadata": {},
   "source": [
    "#### Products\n",
    "This table contains the capping product definitions\n",
    "\n",
    "| Field                              | Description |\n",
    "|:-----------------------------------|:--|\n",
    "| id                                 | Unique ID |  \n",
    "| product_type                       | CAPPING |  \n",
    "| capping_type                       | DAILY or WEEKLY |  \n",
    "| created_date                       | Date created |  \n",
    "| start_date_utc                     | Effective start date |  \n",
    "| status                             | ACTIVE or INACTIVE |  \n",
    "| rules_default_limit                | Capping limit amount |  \n",
    "| rules_max_fare_value               | Fare above this are not included in the capping |  \n",
    "| rules_transaction_types            | Type of fare |  \n",
    "| rules_from_time_local              | Time of day in which capping starts effectivity |  \n",
    "| rules_to_time_local                | Time of day in which capping ends effectivity |  \n",
    "| rules_weekly_cap_start_day         | If weekly capping, this is the start day (e.g. SUNDAY, MONDAY) |  \n",
    "| rules_capping_duration_in_minutes  | If product_type is time based, free transfer window |  \n",
    "| rules_number_of_transfer           | If product_type is time based, number of free transfer |  "
   ]
  },
  {
   "cell_type": "markdown",
   "metadata": {},
   "source": [
    "#### Trips\n",
    "This table contains the trips\n",
    "\n",
    "| Field                       | Description | \n",
    "|:----------------------------|:--|\n",
    "| charge_id                   | Unique Id of the associated charge |  \n",
    "| trip_id                     | Unique Id of this trip | \n",
    "| tap_on_id                   | Tap ON ID provided | \n",
    "| tap_on_date                 | Date tapped on |  \n",
    "| tap_off_id                  | Tap OFF ID provided (if variable) |  \n",
    "| tap_off_date                | Date tapped off for variable fare |  \n",
    "| original_amount             | Actual fare |  \n",
    "| adjusted_amount             | Adjustment after capping was applied |  \n",
    "| service_type                |  |  \n",
    "| direction                   |  |  \n",
    "| fare_type                   | flat, variable or retail|  \n",
    "| trip_completion             | If trip was completed (if variable and no tap off, this is incomplete) |  "
   ]
  },
  {
   "cell_type": "markdown",
   "metadata": {},
   "source": [
    "#### Adjustments\n",
    "This table contains all the adjustments (including zero amount) that were done for a trip. An entry here means the a trip was qualified for a product.\n",
    "\n",
    "| Field             | Description |\n",
    "|:------------------|:--|\n",
    "| product_id        | ID from the product table |  \n",
    "| trip_id           | Trip ID from the trips table |  \n",
    "| adjustment_id     | ID related to the group of adjustments. i.e.  |  \n",
    "| adjustment_amount | Amount deducted from the actual fare |  \n",
    "| adjustment_type   | Capping type from product table |  \n",
    "| applied           | True if the fare was adjusted |  \n",
    "| zone_ids_used     | Zones used in the adjustment |  "
   ]
  },
  {
   "cell_type": "markdown",
   "metadata": {},
   "source": [
    "For the example earlier, it would have the following sample entries:\n",
    "\n",
    "##### Product\n",
    "\n",
    "| id | capping_type | rules_default_limit |\n",
    "|:- |:-|:-|\n",
    "| P1| DAILY | 5.0 |\n",
    "| P2| WEEKLY | 40.0 |\n",
    "\n",
    "##### Trip\n",
    "\n",
    "| trip_id | tap_on_date | original_amount | adjusted_amount | trip_completion |\n",
    "|:-|:-|:-|:-|:-|\n",
    "| T1 | 2021-07-20 13:00:00.000 | 2.0  | 2.0  | complete  |\n",
    "| T2 | 2021-07-20 14:00:00.000 | 2.0  | 2.0  | complete  |\n",
    "| T3 | 2021-07-20 15:00:00.000 | 2.0  | 1.0  | complete  |\n",
    "| T4 | 2021-07-21 13:00:00.000 | 3.0  | 3.0  | complete  |\n",
    "| T5 | 2021-07-21 14:00:00.000 | 3.0  | 2.0  | complete  |\n",
    "| T6 | 2021-07-21 15:00:00.000 | 3.0  | 0.0  | complete  |\n",
    "\n",
    "###### Adjustments\n",
    "\n",
    "| product_id| trip_id | adjustment_id | adjustment_amount | applied |\n",
    "|:-|:-|:-|:-|:-|\n",
    "| P1 | T1 | AJ1 | 0.0 | false |\n",
    "| P1 | T2 | AJ1 | 0.0 | false |\n",
    "| P1 | T3 | AJ1 | 1.0 | true  |\n",
    "| P1 | T4 | AJ2 | 0.0 | false |\n",
    "| P1 | T5 | AJ2 | 1.0 | true  |\n",
    "| P1 | T6 | AJ2 | 3.0 | true  |\n",
    "| P2 | T1 | AJ3 | 0.0 | false |\n",
    "| P2 | T2 | AJ3 | 0.0 | false |\n",
    "| P2 | T3 | AJ3 | 0.0 | false |\n",
    "| P2 | T4 | AJ4 | 0.0 | false |\n",
    "| P2 | T5 | AJ4 | 0.0 | false |\n",
    "| P2 | T6 | AJ4 | 0.0 | false |\n"
   ]
  },
  {
   "cell_type": "markdown",
   "metadata": {},
   "source": [
    "## Problem\n",
    "\n",
    "1. Visualise the growth of the transactions volume (number) and amount which shows before and after the product was applied\n",
    "2. (Optional) Provide insights about the visualisation. Were the capping product effective? If so, how effective? etc\n",
    "\n",
    "### Note\n",
    "You can use any library you like. Just declare it."
   ]
  },
  {
   "cell_type": "code",
   "execution_count": 13,
   "metadata": {},
   "outputs": [],
   "source": [
    "# Imports\n",
    "# NB. You dont have to use pandas.\n",
    "import pandas as pd\n",
    "import numpy as np\n",
    "import matplotlib.pyplot as plt\n",
    "from datetime import datetime\n",
    "\n",
    "pd.set_option('display.max_columns', None)"
   ]
  },
  {
   "cell_type": "code",
   "execution_count": 2,
   "metadata": {},
   "outputs": [],
   "source": [
    "products_df = pd.read_csv('products.csv', sep=',')\n",
    "trips_df = pd.read_csv('trips.csv', sep=',')\n",
    "adjustments_df = pd.read_csv('adjustments.csv', sep=',')"
   ]
  },
  {
   "cell_type": "code",
   "execution_count": 3,
   "metadata": {},
   "outputs": [],
   "source": [
    "#Join trips and adjustments\n",
    "trips_with_adjustments = trips_df.join(adjustments_df.set_index('trip_id'), on = ['trip_id'], how = 'left', lsuffix='trip_', rsuffix='adj_')"
   ]
  },
  {
   "cell_type": "markdown",
   "metadata": {},
   "source": [
    "<h2>Capping product applied date</h2>"
   ]
  },
  {
   "cell_type": "code",
   "execution_count": 83,
   "metadata": {},
   "outputs": [
    {
     "name": "stdout",
     "output_type": "stream",
     "text": [
      "Date capping applied = 2019-07-17\n"
     ]
    }
   ],
   "source": [
    "# Since all the capping products were applied on a single day, we will get the first date\n",
    "date_capping_applied = products_df.created_date.apply(lambda s: s.split('T')[0])[0]\n",
    "\n",
    "print(f\"Date capping applied = {date_capping_applied}\")"
   ]
  },
  {
   "cell_type": "code",
   "execution_count": 89,
   "metadata": {},
   "outputs": [],
   "source": [
    "volume_growth = trips_with_adjustments[['tap_on_date']].copy()\n",
    "\n",
    "\n",
    "# Convert the date column to datetime format\n",
    "volume_growth['date'] = pd.to_datetime(volume_growth['tap_on_date'])\n",
    "\n",
    "applied_dt = datetime.strptime(date_capping_applied, \"%Y-%m-%d\")\n"
   ]
  },
  {
   "cell_type": "markdown",
   "metadata": {},
   "source": [
    "<h2>Trips volume growth weekly before capping product</h2>"
   ]
  },
  {
   "cell_type": "code",
   "execution_count": 100,
   "metadata": {},
   "outputs": [
    {
     "data": {
      "text/plain": [
       "<Axes: xlabel='date'>"
      ]
     },
     "execution_count": 100,
     "metadata": {},
     "output_type": "execute_result"
    },
    {
     "data": {
      "image/png": "[encoded data removed]",
      "text/plain": [
       "<Figure size 640x480 with 1 Axes>"
      ]
     },
     "metadata": {},
     "output_type": "display_data"
    }
   ],
   "source": [
    "before_capping_growth = volume_growth[volume_growth.date < applied_dt]\n",
    "\n",
    "# Set the index to the date column, filter data before capping\n",
    "before_capping_growth.set_index('date', inplace=True)\n",
    "\n",
    "# Group the data by week, as we see a big drop on weekends\n",
    "before_capping_growth.resample('W-SUN').size().plot()\n",
    "\n",
    "after_capping_growth = volume_growth[volume_growth.date >= applied_dt]\n",
    "\n",
    "# Set the index to the date column, filter data before capping\n",
    "after_capping_growth.set_index('date', inplace=True)\n",
    "\n",
    "# Group the data by week, as we see a big drop on weekends\n",
    "after_capping_growth.resample('W-SUN').size().plot()"
   ]
  },
  {
   "cell_type": "markdown",
   "metadata": {},
   "source": [
    "<h2>Trips volume growth weekly after capping product</h2>"
   ]
  },
  {
   "cell_type": "code",
   "execution_count": null,
   "metadata": {},
   "outputs": [],
   "source": []
  },
  {
   "cell_type": "code",
   "execution_count": 43,
   "metadata": {},
   "outputs": [
    {
     "data": {
      "text/plain": [
       "Index(['customer_id', 'charge_id', 'trip_id', 'tap_on_id', 'tap_on_date',\n",
       "       'tap_off_id', 'tap_off_date', 'original_amount', 'adjusted_amount',\n",
       "       'service_type', 'direction', 'fare_type', 'trip_completion',\n",
       "       'product_id', 'adjustment_id', 'adjustment_amount', 'adjustment_type',\n",
       "       'applied', 'zone_ids_used', 'trip_date'],\n",
       "      dtype='object')"
      ]
     },
     "execution_count": 43,
     "metadata": {},
     "output_type": "execute_result"
    }
   ],
   "source": [
    "trips_with_adjustments.columns"
   ]
  },
  {
   "cell_type": "markdown",
   "metadata": {},
   "source": [
    "<h2>Operator fare collections growth weekly plot</h2>"
   ]
  },
  {
   "cell_type": "code",
   "execution_count": 49,
   "metadata": {},
   "outputs": [
    {
     "data": {
      "text/plain": [
       "<Axes: xlabel='date'>"
      ]
     },
     "execution_count": 49,
     "metadata": {},
     "output_type": "execute_result"
    },
    {
     "data": {
      "image/png": "[encoded data removed]",
      "text/plain": [
       "<Figure size 640x480 with 1 Axes>"
      ]
     },
     "metadata": {},
     "output_type": "display_data"
    }
   ],
   "source": [
    "amount_growth = trips_with_adjustments[['tap_on_date', 'adjusted_amount']].copy()\n",
    "\n",
    "\n",
    "# Convert the date column to datetime format\n",
    "amount_growth['date'] = pd.to_datetime(amount_growth['tap_on_date'])\n",
    "\n",
    "# Set the index to the date column\n",
    "amount_growth.set_index('date', inplace=True)\n",
    "\n",
    "# Group the data by week, as we see a big drop on weekends\n",
    "amount_growth = amount_growth.resample('W-SUN').sum()\n",
    "\n",
    "amount_growth.plot()"
   ]
  },
  {
   "cell_type": "markdown",
   "metadata": {},
   "source": [
    "Calculate saving for customers from the product"
   ]
  },
  {
   "cell_type": "code",
   "execution_count": 71,
   "metadata": {},
   "outputs": [
    {
     "name": "stdout",
     "output_type": "stream",
     "text": [
      "Savings of 3671.0800000000013 for 11993 unique customers\n"
     ]
    }
   ],
   "source": [
    "\n",
    "totalSavings = (trips_with_adjustments.original_amount - trips_with_adjustments.adjusted_amount).sum()\n",
    "\n",
    "uniqueCustomersCount = trips_with_adjustments[trips_with_adjustments['adjustment_id'].notna()].customer_id.unique().size\n",
    "\n",
    "print(f\"Savings of {totalSavings} for {uniqueCustomersCount} unique customers\")\n",
    "\n"
   ]
  },
  {
   "cell_type": "markdown",
   "metadata": {},
   "source": [
    "Questions\n",
    "1. Daily volume growth.\n",
    "2. Daily volume growth before and after a product was applied.\n",
    "3. Daily amount growth.\n",
    "4. Daily amount growth before and after a product was applied.\n",
    "5. Effectiveness of capping\n",
    "6. "
   ]
  }
 ],
 "metadata": {
  "kernelspec": {
   "display_name": "Python 3",
   "language": "python",
   "name": "python3"
  },
  "language_info": {
   "codemirror_mode": {
    "name": "ipython",
    "version": 3
   },
   "file_extension": ".py",
   "mimetype": "text/x-python",
   "name": "python",
   "nbconvert_exporter": "python",
   "pygments_lexer": "ipython3",
   "version": "3.9.6"
  }
 },
 "nbformat": 4,
 "nbformat_minor": 2
}
